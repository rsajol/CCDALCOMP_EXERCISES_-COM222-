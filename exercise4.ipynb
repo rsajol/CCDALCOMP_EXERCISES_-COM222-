{
  "cells": [
    {
      "cell_type": "markdown",
      "metadata": {
        "id": "view-in-github",
        "colab_type": "text"
      },
      "source": [
        "<a href=\"https://colab.research.google.com/github/rsajol/CCDALCOMP_EXERCISES_-COM222-/blob/main/exercise4.ipynb\" target=\"_parent\"><img src=\"https://colab.research.google.com/assets/colab-badge.svg\" alt=\"Open In Colab\"/></a>"
      ]
    },
    {
      "cell_type": "markdown",
      "metadata": {
        "id": "cPRRjBOhHHMh"
      },
      "source": [
        "# Exercise 4\n",
        "\n",
        "Please follow the instructions in each number."
      ]
    },
    {
      "cell_type": "markdown",
      "metadata": {
        "id": "zvDTNWRFHHMk"
      },
      "source": [
        "### Activity Selection Problem\n",
        "\n",
        "Given a set of activities, along with the starting and finishing time of each activity, find the maximum number of activities performed by a single person assuming that a person can only work on a single activity at a time.\n",
        "\n",
        "For example,\n",
        "\n",
        "Input: Following set of activities (1, 4), (3, 5), (0, 6), (5, 7), (3, 8), (5, 9), (6, 10), (8, 11), (8, 12), (2, 13), (12, 14)  \n",
        "\n",
        "Output: (1, 4), (5, 7), (8, 11), (12, 14)"
      ]
    },
    {
      "cell_type": "markdown",
      "metadata": {
        "id": "ff7w7YLGHHMl"
      },
      "source": [
        "## Tasks"
      ]
    },
    {
      "cell_type": "markdown",
      "metadata": {
        "id": "0QLHdoNSHHMl"
      },
      "source": [
        "1. Write a program using a recursive greedy approach to get the maximum number of activities (`50 points`)"
      ]
    },
    {
      "cell_type": "code",
      "execution_count": 1,
      "metadata": {
        "vscode": {
          "languageId": "plaintext"
        },
        "id": "Xe02cHvAHHMl",
        "colab": {
          "base_uri": "https://localhost:8080/"
        },
        "outputId": "e6cb2d7d-dec5-4160-a83c-37e746497d4d"
      },
      "outputs": [
        {
          "output_type": "stream",
          "name": "stdout",
          "text": [
            "Maximum number of activities that can be performed: [(1, 4), (5, 7), (8, 11), (12, 14)]\n"
          ]
        }
      ],
      "source": [
        "def recursive_activity_selector(activities, selected_activities, last_finish_time, index):\n",
        "\n",
        "    if index == len(activities):\n",
        "        return selected_activities\n",
        "\n",
        "\n",
        "    if activities[index][0] >= last_finish_time:\n",
        "\n",
        "        selected_activities.append(activities[index])\n",
        "        return recursive_activity_selector(activities, selected_activities, activities[index][1], index + 1)\n",
        "    else:\n",
        "\n",
        "        return recursive_activity_selector(activities, selected_activities, last_finish_time, index + 1)\n",
        "\n",
        "def max_activities(activities):\n",
        "\n",
        "    sorted_activities = sorted(activities, key=lambda x: x[1])\n",
        "    selected_activities = []\n",
        "\n",
        "\n",
        "    return recursive_activity_selector(sorted_activities, selected_activities, 0, 0)\n",
        "\n",
        "\n",
        "activities = [(1, 4), (3, 5), (0, 6), (5, 7), (3, 8), (5, 9), (6, 10), (8, 11), (8, 12), (2, 13), (12, 14)]\n",
        "result = max_activities(activities)\n",
        "print(\"Maximum number of activities that can be performed:\", result)\n"
      ]
    },
    {
      "cell_type": "markdown",
      "metadata": {
        "id": "eZe27u4LHHMn"
      },
      "source": [
        "2. Write a program using a iterative greedy approach to get the maximun number of activities (`50 points`)"
      ]
    },
    {
      "cell_type": "code",
      "execution_count": 2,
      "metadata": {
        "vscode": {
          "languageId": "plaintext"
        },
        "id": "UrSZyQwEHHMn",
        "colab": {
          "base_uri": "https://localhost:8080/"
        },
        "outputId": "8fd7f61e-ce3f-462f-946f-80ae7c195885"
      },
      "outputs": [
        {
          "output_type": "stream",
          "name": "stdout",
          "text": [
            "Maximum number of activities that can be performed: [(1, 4), (5, 7), (8, 11), (12, 14)]\n"
          ]
        }
      ],
      "source": [
        "def max_activities(activities):\n",
        "\n",
        "    sorted_activities = sorted(activities, key=lambda x: x[1])\n",
        "\n",
        "\n",
        "    selected_activities = []\n",
        "\n",
        "\n",
        "    last_finish_time = 0\n",
        "\n",
        "    for activity in sorted_activities:\n",
        "        if activity[0] >= last_finish_time:\n",
        "\n",
        "            selected_activities.append(activity)\n",
        "\n",
        "            last_finish_time = activity[1]\n",
        "\n",
        "    return selected_activities\n",
        "\n",
        "\n",
        "activities = [(1, 4), (3, 5), (0, 6), (5, 7), (3, 8), (5, 9), (6, 10), (8, 11), (8, 12), (2, 13), (12, 14)]\n",
        "result = max_activities(activities)\n",
        "print(\"Maximum number of activities that can be performed:\", result)\n"
      ]
    }
  ],
  "metadata": {
    "colab": {
      "provenance": [],
      "include_colab_link": true
    },
    "kernelspec": {
      "display_name": "base",
      "language": "python",
      "name": "python3"
    },
    "language_info": {
      "codemirror_mode": {
        "name": "ipython",
        "version": 3
      },
      "file_extension": ".py",
      "mimetype": "text/x-python",
      "name": "python",
      "nbconvert_exporter": "python",
      "pygments_lexer": "ipython3",
      "version": "3.9.6"
    }
  },
  "nbformat": 4,
  "nbformat_minor": 0
}